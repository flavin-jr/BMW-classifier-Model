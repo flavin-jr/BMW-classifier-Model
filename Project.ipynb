{
  "nbformat": 4,
  "nbformat_minor": 0,
  "metadata": {
    "colab": {
      "provenance": []
    },
    "kernelspec": {
      "name": "python3",
      "display_name": "Python 3"
    },
    "language_info": {
      "name": "python"
    },
    "accelerator": "GPU"
  },
  "cells": [
    {
      "cell_type": "code",
      "source": [
        "from fastai.vision.all import *\n",
        "from fastai.vision.widgets import *"
      ],
      "metadata": {
        "id": "jtBnTI-N8e4L"
      },
      "execution_count": 1,
      "outputs": []
    },
    {
      "cell_type": "code",
      "execution_count": null,
      "metadata": {
        "id": "EBwxObRD72L2"
      },
      "outputs": [],
      "source": [
        "path = Path()\n",
        "learn_inf = load_learner(path/'export.pkl', cpu=True)\n",
        "btn_upload = widgets.FileUpload()\n",
        "btn_run = widgets.Button(description='Classify')\n",
        "out_pl = widgets.Output()\n",
        "lbl_pred = widgets.Label()"
      ]
    },
    {
      "cell_type": "code",
      "source": [
        "def on_data_change(change):\n",
        "    lbl_pred.value = ''\n",
        "    img = PILImage.create(btn_upload.data[-1])\n",
        "    out_pl.clear_output()\n",
        "    with out_pl: display(img.to_thumb(128,128))\n",
        "    pred,pred_idx,probs = learn_inf.predict(img)\n",
        "    lbl_pred.value = f'Prediction: {pred}; Probability: {probs[pred_idx]:.04f}'"
      ],
      "metadata": {
        "id": "ER6E28C48YgF"
      },
      "execution_count": null,
      "outputs": []
    },
    {
      "cell_type": "code",
      "source": [
        "btn_upload.observe(on_data_change, names=['data'])"
      ],
      "metadata": {
        "id": "BRi8yKOs8Z3v"
      },
      "execution_count": null,
      "outputs": []
    },
    {
      "cell_type": "code",
      "source": [
        "display(VBox([widgets.Label('Upload your BMW Car!'), btn_upload, btn_run, out_pl, lbl_pred]))"
      ],
      "metadata": {
        "id": "Sxxo6Hbp8bHg"
      },
      "execution_count": null,
      "outputs": []
    }
  ]
}